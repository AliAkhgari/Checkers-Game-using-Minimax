{
 "cells": [
  {
   "cell_type": "markdown",
   "metadata": {},
   "source": [
    "# <center> Hands-On : Minimax </center>\n",
    "##  In this project, we want to implement **Minimax Algorithm** to play Checkers."
   ]
  },
  {
   "cell_type": "markdown",
   "metadata": {},
   "source": [
    "***\n",
    "## What is Minimax Algorithm?\n",
    "#### Mini-max algorithm is a recursive or backtracking algorithm which is used in decision-making and game theory. It provides an optimal move for the player assuming that opponent is also playing optimally.   [More information](https://www.javatpoint.com/mini-max-algorithm-in-ai)"
   ]
  },
  {
   "cell_type": "markdown",
   "metadata": {},
   "source": [
    "***\n",
    "## _traverseLeft() and _traverseRight():\n",
    "#### These recursive functions are used to determine the moves that each Piece can take. \n",
    "### Parameters:\n",
    "- **start**: The row number of the Piece\n",
    "- **stop**: How far can a Piece go\n",
    "- **step**: Defining that the Piece should go up or down(the RED player goes up and the WHITE player goes down)\n",
    "- **color**: The color of the Piece\n",
    "- **left** or **right**: The left or right cell of the piece\n",
    "- **skipped**: A list of the Pieces that would be skipped after these moves<br>"
   ]
  },
  {
   "cell_type": "markdown",
   "metadata": {},
   "source": [
    "#### General description:\n",
    "In each function, we have a loop on all of the rows from **start** to **stop** and we determine whether we should go up or down with **step**.<br>Then we check to not going out of the board.(**if left < 0** or **if right > COLS**) <br> In every iteration, we check that the current cell is empty or not. Here we have 3 options:<br>\n",
    "1. The current cell is empty<br>\n",
    "2. The current cell is not empty and has a Piece that its color is the same as the initial Piece color, which means we can't move.<br>\n",
    "3. The current cell is not empty and has a Piece that its color is different from the initial Piece color, so that means we can jump over it but notice that we don't know the place that we will land is empty or not, and in the next iteration we will find out.<br>\n",
    "Then if we skipped from a Piece, we can recursively call the functions to check whether we can double jump or more."
   ]
  },
  {
   "cell_type": "code",
   "execution_count": null,
   "metadata": {},
   "outputs": [],
   "source": [
    "def _traverseLeft(self, start, stop, step, color, left, skipped=[]):\n",
    "    moves = {}\n",
    "    last = []\n",
    "    for r in range(start, stop, step):\n",
    "        if left < 0:\n",
    "            break\n",
    "\n",
    "        current = self.board[r][left]\n",
    "        if current == 0:\n",
    "            if skipped and not last:\n",
    "                break\n",
    "            elif  :\n",
    "                moves[(r, left)] = last + skipped\n",
    "            else:\n",
    "                moves[(r, left)] = last\n",
    "\n",
    "            if last:\n",
    "                if step == -1:\n",
    "                    row = max(r-3, 0)\n",
    "                else:\n",
    "                    row = min(r+3, ROWS)\n",
    "                moves.update(self._traverseLeft(r+step, row, step, color, left-1,skipped=last))\n",
    "                moves.update(self._traverseRight(r+step, row, step, color, left+1,skipped=last))\n",
    "            break\n",
    "        elif current.color == color:\n",
    "            break\n",
    "        else:\n",
    "            last = [current]\n",
    "\n",
    "        left -= 1\n",
    "\n",
    "    return moves\n",
    "\n",
    "def _traverseRight(self, start, stop, step, color, right, skipped=[]):\n",
    "    moves = {}\n",
    "    last = []\n",
    "    for r in range(start, stop, step):\n",
    "        if right >= COLS:\n",
    "            break\n",
    "\n",
    "        current = self.board[r][right]\n",
    "        if current == 0:\n",
    "            if skipped and not last:\n",
    "                break\n",
    "            elif skipped:\n",
    "                moves[(r,right)] = last + skipped\n",
    "            else:\n",
    "                moves[(r, right)] = last\n",
    "\n",
    "            if last:\n",
    "                if step == -1:\n",
    "                    row = max(r-3, 0)\n",
    "                else:\n",
    "                    row = min(r+3, ROWS)\n",
    "                moves.update(self._traverseLeft(r+step, row, step, color, right-1,skipped=last))\n",
    "                moves.update(self._traverseRight(r+step, row, step, color, right+1,skipped=last))\n",
    "            break\n",
    "        elif current.color == color:\n",
    "            break\n",
    "        else:\n",
    "            last = [current]\n",
    "\n",
    "        right += 1\n",
    "\n",
    "    return moves"
   ]
  },
  {
   "cell_type": "markdown",
   "metadata": {},
   "source": [
    "***\n",
    "## getValidMoves()\n",
    "#### This function should return the valid moves that each piece can do, considering the Piece's color and whether the Piece is a king or not.\n",
    "Clarifying some pieces of the code:\n",
    "- **$max(-1,  piece.row-3)$**: Means that we only see at most two rows above and also we check that we are not out of the board.\n",
    "- **$min(8,  piece.row+3)$**: Means that we only see at most two rows below and also we check that we are not out of the board.\n",
    "\n",
    "<br>**moves** is a dictionary that its keys are the destinitions and its values are the Pieces that are skipped.\n",
    "\n"
   ]
  },
  {
   "cell_type": "code",
   "execution_count": null,
   "metadata": {},
   "outputs": [],
   "source": [
    "def getValidMoves(self, piece):\n",
    "    moves = {}\n",
    "    if piece.king == True:\n",
    "        moves.update(self._traverseLeft(piece.row-1, max(-1, piece.row-3), -1, piece.color, piece.col-1))\n",
    "        moves.update(self._traverseRight(piece.row-1, max(-1, piece.row-3), -1, piece.color, piece.col+1))\n",
    "        moves.update(self._traverseLeft(piece.row+1, min(8, piece.row+3), 1, piece.color, piece.col-1))\n",
    "        moves.update(self._traverseRight(piece.row+1, min(8, piece.row+3), 1, piece.color, piece.col+1))\n",
    "    else:\n",
    "        if piece.color == RED:\n",
    "            moves.update(self._traverseLeft(piece.row-1, max(-1, piece.row-3), -1, piece.color, piece.col-1))\n",
    "            moves.update(self._traverseRight(piece.row-1, max(-1, piece.row-3), -1, piece.color, piece.col+1))\n",
    "        else:\n",
    "            moves.update(self._traverseLeft(piece.row+1, min(8, piece.row+3), 1, piece.color, piece.col-1))\n",
    "            moves.update(self._traverseRight(piece.row+1, min(8, piece.row+3), 1, piece.color, piece.col+1))\n",
    "\n",
    "    return moves"
   ]
  },
  {
   "cell_type": "markdown",
   "metadata": {},
   "source": [
    "## simulateMove()\n",
    "#### In this function we update the board based on a move.<br>\n",
    "\n",
    "\n",
    "## getAllMoves()\n",
    "#### In this function we first get all of the pieces of a specific color, then for each Piece, we get the valid moves from the getValidMoves() function. After that, we simulate those moves on the table and create a board for each of those moves. Finally, we return all of these boards."
   ]
  },
  {
   "cell_type": "code",
   "execution_count": null,
   "metadata": {},
   "outputs": [],
   "source": [
    "def simulateMove(piece, move, board, skip):\n",
    "    row = move[0]\n",
    "    col = move[1]\n",
    "    \n",
    "    board.move(piece, row, col)\n",
    "    \n",
    "    if skip:\n",
    "        board.remove(skip)\n",
    "    return board\n",
    "\n",
    "def getAllMoves(board, color):\n",
    "    all_moves = []\n",
    "    pieces = board.getAllPieces(color)\n",
    "    \n",
    "    for p in pieces:\n",
    "        valid_moves = board.getValidMoves(p)\n",
    "        for move, skipped in valid_moves.items():\n",
    "            board_copy = deepcopy(board)\n",
    "            piece_copy = board_copy.getPiece(p.row, p.col)\n",
    "            new_move_board = simulateMove(piece_copy, move, board_copy, skipped)\n",
    "            all_moves.append(new_move_board)\n",
    "    return all_moves"
   ]
  },
  {
   "cell_type": "markdown",
   "metadata": {},
   "source": [
    "## Evaluation Function\n",
    "#### We can simply define the **Evaluation Function** as an estimation of the goodness of a position. In the other words, we want to give our state a value that can estimate its goodness.<br> The evaluation function is used here is: $ #RED players - #WHITE players + #RED_kings * 0.5 - #WITE_kings * 0.5 $ <br> Because at the end, the number of players defines the winner, so we take it into account. Also because the king pieces are stronger than normal pieces, we include this issue too."
   ]
  },
  {
   "cell_type": "markdown",
   "metadata": {},
   "source": [
    "***\n",
    "## Minimax\n",
    "#### In this function, we check whether we should maximize the utility or minimize it. Based on the color of the players we should do this. The max_player() and the min_player() functions will do this job.<br>In these functions, we recursively go through our game tree and we will obtain the best moves by maximizing utility for one player and minimizing utility for another player.<br><br> **Minimax Properties:**\n",
    "- **Complete**: if a solution exists, minimax will find it. (if the decision tree is finite)\n",
    "- **Optimal**: minimax is optimal if both opponents are playing optimally.\n",
    "- **Time Complexity**: $O(b^m)$, where b is branching factor of the game-tree, and m is the maximum depth of the tree.(because we perform DFS)\n",
    "- **Space Complexity**: $O(bm)$ (because we perform DFS)"
   ]
  },
  {
   "cell_type": "code",
   "execution_count": null,
   "metadata": {},
   "outputs": [],
   "source": [
    "def minimax(position, depth, maxPlayer):\n",
    "    if depth == 0:\n",
    "        return position.evaluate(), position\n",
    "    \n",
    "    if maxPlayer == True:\n",
    "        return max_player(position, depth)\n",
    "\n",
    "    else:\n",
    "        return min_player(position, depth)\n",
    "\n",
    "def max_player(position, depth):\n",
    "    if depth == 0:\n",
    "        return position.evaluate(), position\n",
    "    move = position\n",
    "    moves = getAllMoves(position, WHITE)\n",
    "    v_max = -math.inf\n",
    "    for i in moves:\n",
    "        eval_ = min_player(i, depth-1)[0]\n",
    "        if v_max <= eval_:\n",
    "            v_max = eval_\n",
    "            move = i\n",
    "    return v_max, move\n",
    "\n",
    "def min_player(position, depth):\n",
    "    if depth == 0:\n",
    "        return position.evaluate(), position\n",
    "    move = position\n",
    "    moves = getAllMoves(position, RED)\n",
    "    v_min = math.inf\n",
    "    for i in moves:\n",
    "        eval_ = max_player(i, depth-1)[0]\n",
    "        if v_min >= eval_:\n",
    "            v_min = eval_\n",
    "            move = i\n",
    "    return v_min, move"
   ]
  },
  {
   "cell_type": "markdown",
   "metadata": {},
   "source": [
    "***\n",
    "## Running the game\n",
    "#### In the main function, we run the game. For each turn, we run the minimax algorithm considering its depth to find the best move."
   ]
  },
  {
   "cell_type": "code",
   "execution_count": null,
   "metadata": {},
   "outputs": [],
   "source": [
    "FPS = 60\n",
    "\n",
    "WHITE_DEPTH = 5\n",
    "RED_DEPTH = 5\n",
    "\n",
    "WIN = pygame.display.set_mode((WIDTH, HEIGHT))\n",
    "pygame.display.set_caption('Checkers')\n",
    "\n",
    "if __name__ == '__main__':\n",
    "    run = True\n",
    "    clock = pygame.time.Clock()\n",
    "    game = Game(WIN)\n",
    "    turn = 0\n",
    "    while run:\n",
    "        clock.tick(FPS)\n",
    "\n",
    "        if game.turn == WHITE:\n",
    "            value, newBoard = minimax(game.getBoard(), WHITE_DEPTH, True)\n",
    "            if game.getBoard() == newBoard:\n",
    "                turn += 1\n",
    "            game.aiMove(newBoard)\n",
    "\n",
    "        if turn > 10 or turn <-10:\n",
    "            pygame.time.delay(10000)\n",
    "            if turn > 0:\n",
    "                print('There is no move for WHITE player!')\n",
    "            else:\n",
    "                print('There is no move for RED player!')\n",
    "            if game.getBoard().redLeft > game.getBoard().whiteLeft:\n",
    "                print('The RED Player wins!')\n",
    "            elif game.getBoard().redLeft < game.getBoard().whiteLeft:\n",
    "                print('The WHITE Player wins!')\n",
    "            else:\n",
    "                print('Tie!')\n",
    "            run = False\n",
    "            \n",
    "        if game.winner() != None:\n",
    "            print(game.winner())\n",
    "            run = False\n",
    "\n",
    "        if game.turn == RED:\n",
    "            value, newBoard = minimax(game.getBoard(), RED_DEPTH, False)\n",
    "            if game.getBoard() == newBoard:\n",
    "                turn -= 1\n",
    "            game.aiMove(newBoard)\n",
    "\n",
    "        for event in pygame.event.get():\n",
    "            if event.type == pygame.QUIT:\n",
    "                run = False\n",
    "\n",
    "        game.update()\n",
    "        # pygame.time.delay(500)\n",
    "    \n",
    "    pygame.quit()"
   ]
  },
  {
   "cell_type": "markdown",
   "metadata": {},
   "source": [
    "***\n",
    "## Testing the algorithm for the depth of 1 for both players\n",
    "#### We can see that the game runs very fast because we just see one move ahead for each player. But because we just see one depth of the game tree, the decisions that each player makes, are not good."
   ]
  },
  {
   "cell_type": "markdown",
   "metadata": {},
   "source": [
    "***\n",
    "## Testing the algorithm for the depth of 2 and 5\n",
    "#### The game runs slower than the first test because here we see more depth from the tree, hence we make better decisions. But because the depth of the players is not the same, the player that has a bigger depth, sees more moves and will get better results."
   ]
  },
  {
   "cell_type": "markdown",
   "metadata": {},
   "source": [
    "***\n",
    "## Testing the algorithm for the depth of 5 for both players\n",
    "#### Here the game runs very slower than the previous tests because now we see a lot more things, that will result in making a lot better decisions compared to previous tests. But the depth of both players is the same, so they are equally strong."
   ]
  },
  {
   "cell_type": "markdown",
   "metadata": {},
   "source": [
    "***\n",
    "## Conclusion\n",
    "#### The main advantage of minimax is that it performs a deep evaluation in the field of search space. But if we have a game that has a large branching factor, it gets really slow. Here we can do some optimization such as **alpha-beta pruning** to get better time efficiency. With **alpha-beta pruning**, we can throw away those states which are not necessary to expand. "
   ]
  }
 ],
 "metadata": {
  "kernelspec": {
   "display_name": "Python 3",
   "language": "python",
   "name": "python3"
  },
  "language_info": {
   "codemirror_mode": {
    "name": "ipython",
    "version": 3
   },
   "file_extension": ".py",
   "mimetype": "text/x-python",
   "name": "python",
   "nbconvert_exporter": "python",
   "pygments_lexer": "ipython3",
   "version": "3.8.5"
  }
 },
 "nbformat": 4,
 "nbformat_minor": 4
}
